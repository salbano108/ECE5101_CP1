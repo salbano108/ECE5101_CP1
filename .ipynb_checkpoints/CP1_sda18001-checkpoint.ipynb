{
 "cells": [
  {
   "cell_type": "markdown",
   "id": "c328acdd-229b-4d04-811c-3e4675d7f49d",
   "metadata": {},
   "source": [
    "**Computer Project 1** </br>\n",
    "\n",
    "**ECE5101** \n",
    "\n",
    "Spencer Albano \n",
    "\n",
    "\n",
    "\n",
    "`CP1_sda18001.ipynb`\n",
    "*can also be viewed at* \n",
    "\n",
    "<https://nbviewer.org/github/salbano108/ECE5101_CP1/blob/main/CP1_sda18001.ipynb/> \n",
    "\n",
    "*or by installing Jupyter Lab*\n",
    "</br>\n",
    "</br>"
   ]
  },
  {
   "cell_type": "markdown",
   "id": "267e6f5b-b9d3-4109-833b-286245d03add",
   "metadata": {},
   "source": [
    "# Problem 1"
   ]
  },
  {
   "cell_type": "markdown",
   "id": "93d005ae-98d8-4973-864d-6169294b15de",
   "metadata": {},
   "source": [
    "For each matrix below find:\n",
    "\n",
    "(i) The dominant eigenvalue <br />\n",
    "(ii) A corresponding eigenvector <br />\n",
    "(iii) The power 𝑘 used to obtain them. <br />\n",
    "\n",
    "\n",
    "$$ A_{1}=\n",
    "\\begin{bmatrix}\n",
    "  0.2 & 1.2 & 1.1 & 0.9 & 0.1 & 0 & 0.2\\\\ \n",
    "  0.7 & 0 & 0 & 0 & 0 & 0 & 0 \\\\\n",
    "  0 & 0.82 & 0 & 0 & 0 & 0 & 0\\\\\n",
    "  0 & 0 & 0.97 & 0 & 0 & 0 & 0\\\\\n",
    "  0 & 0 & 0 & 0.97 & 0 & 0 & 0\\\\\n",
    "  0 & 0 & 0 & 0 & 0.9 & 0 & 0\\\\\n",
    "  0 & 0 & 0 & 0 & 0 & 0.87 & 0.2\\\\\n",
    "\\end{bmatrix}$$\n",
    "\n",
    "$$ A_{2}=\n",
    "\\begin{bmatrix}\n",
    "  0.25 & 0 & 0.5 & 0 & 0.5\\\\ \n",
    "  0 & 0 & 1 & 0 & 0\\\\  \n",
    "  0.25 & 0.25 & 0 & 0.25 & 0.25\\\\ \n",
    "  0 & 0 & 0.5 & 0 & 0.5\\\\\n",
    "  0 & 0 & 0 & 0 & 1\\\\ \n",
    "\\end{bmatrix}$$\n",
    "\n",
    "\n",
    "$$ A_{3}=\n",
    "\\begin{bmatrix}\n",
    "  1 & 2 & 1 & 3\\\\ \n",
    "  2 & 1 & 2 & 3\\\\ \n",
    "  0 & 1 & 1 & 1\\\\ \n",
    "  1 & 1 & 3 & 1\\\\ \n",
    "\\end{bmatrix}$$"
   ]
  },
  {
   "cell_type": "markdown",
   "id": "83b1ecda-0187-4e20-991a-49e7fb377c70",
   "metadata": {},
   "source": [
    "---\n",
    "## Solution:"
   ]
  },
  {
   "cell_type": "code",
   "execution_count": 115,
   "id": "d873aee7-89dc-4a01-9bbb-b9cbf686e8c3",
   "metadata": {},
   "outputs": [],
   "source": [
    "import numpy as np\n",
    "\n",
    "def power_method(A, max_iterations=15, precision=1e-3):\n",
    "    n, m = A.shape #Find row,col of A\n",
    "    x = np.ones(n) # Set the initial vector to a vector of ones\n",
    "    eigenvalue_temp = 0\n",
    "    \n",
    "    for k in range(1, max_iterations + 1): #test from 1 to max_int to find Eigenvalue that fits the selected value of precision\n",
    "        \n",
    "        consant0 = x[0] # Store first component of previous vector\n",
    "        x = np.dot(A, x) # Multiply by matrix A to get the next vector\n",
    "        consant1 = x[0] # Store first component of current vector\n",
    "\n",
    "\n",
    "        x = x / x[0] # Divide each vector by their first component to scale\n",
    "\n",
    "        eigenvalue = consant1/consant0 # Approximate the eigenvalue from (k+1)/(k) vector results\n",
    "\n",
    "        # Check if eigenvalue is still changing for selected level of precision\n",
    "        if abs(eigenvalue - eigenvalue_temp) < precision:\n",
    "            eigenvalue = np.round(eigenvalue, 3)\n",
    "            eigenvector = np.round(x, 3)\n",
    "            return eigenvalue, eigenvector, k\n",
    "\n",
    "        eigenvalue_temp = eigenvalue # Update the temporary eigenvalue for the next iteration"
   ]
  },
  {
   "cell_type": "markdown",
   "id": "41bec8d7-4172-4adf-903c-c09d3328ba62",
   "metadata": {},
   "source": [
    "### Example Matrix $$A = \\begin{bmatrix}  1 & 2 & 0 \\\\   2 & 1 & 2 \\\\   1 & 2 & 3 \\\\  \\end{bmatrix}$$"
   ]
  },
  {
   "cell_type": "code",
   "execution_count": 116,
   "id": "49a231eb-bb7d-4cc9-a201-81c14014c4a8",
   "metadata": {},
   "outputs": [
    {
     "name": "stdout",
     "output_type": "stream",
     "text": [
      "Dominant Eigenvalue: 4.82\n",
      "Eigenvector: [1.000 1.910 2.648]\n",
      "K: 9\n"
     ]
    }
   ],
   "source": [
    "A = np.array([[1, 2, 0], [2, 1, 2], [1, 2, 3]])\n",
    "eigenvalue, eigenvector, k = power_method(A)\n",
    "np.set_printoptions(precision=3, floatmode='fixed')\n",
    "print(\"Dominant Eigenvalue:\", eigenvalue)\n",
    "print(\"Eigenvector:\", eigenvector)\n",
    "print(\"K:\", k)"
   ]
  },
  {
   "cell_type": "markdown",
   "id": "9ab0fedd-32e5-43f3-ae1f-6bad484470ea",
   "metadata": {},
   "source": [
    "$$ \\lambda_{1}v_{1} \\approx 4.82 \\begin{bmatrix}  1.000 \\\\   1.910 \\\\   2.648 \\\\  \\end{bmatrix} for \\: k=9 $$ \n"
   ]
  },
  {
   "cell_type": "markdown",
   "id": "7c426da0-1efe-462e-9e06-146fbbb4db4a",
   "metadata": {},
   "source": [
    "---\n",
    "### Matrix 1 $$ A_{1}=\\begin{bmatrix} 0.2 & 1.2 & 1.1 & 0.9 & 0.1 & 0 & 0.2\\\\   0.7 & 0 & 0 & 0 & 0 & 0 & 0 \\\\  0 & 0.82 & 0 & 0 & 0 & 0 & 0\\\\  0 & 0 & 0.97 & 0 & 0 & 0 & 0\\\\  0 & 0 & 0 & 0.97 & 0 & 0 & 0\\\\  0 & 0 & 0 & 0 & 0.9 & 0 & 0\\\\  0 & 0 & 0 & 0 & 0 & 0.87 & 0.2\\\\ \\end{bmatrix}$$"
   ]
  },
  {
   "cell_type": "code",
   "execution_count": 117,
   "id": "ec3d61ab-02d9-4292-99e4-597c61232b6a",
   "metadata": {},
   "outputs": [
    {
     "name": "stdout",
     "output_type": "stream",
     "text": [
      "Dominant Eigenvalue: 1.372\n",
      "Eigenvector: [1.000 0.510 0.305 0.213 0.156 0.098 0.074]\n",
      "K: 9\n"
     ]
    }
   ],
   "source": [
    "A1 = np.array([[0.2, 1.2, 1.1, 0.9, 0.1, 0, 0.2], [0.7, 0, 0, 0, 0, 0, 0], [0, 0.82, 0, 0, 0, 0, 0], [0, 0, 0.97, 0, 0, 0, 0],[0, 0, 0, 0.97, 0, 0, 0], [0, 0, 0, 0, 0.9, 0, 0], [0, 0, 0, 0, 0, 0.87, 0.2]])\n",
    "eigenvalue, eigenvector, k = power_method(A1)\n",
    "np.set_printoptions(precision=3, floatmode='fixed')\n",
    "print(\"Dominant Eigenvalue:\", eigenvalue)\n",
    "print(\"Eigenvector:\", eigenvector)\n",
    "print(\"K:\", k)"
   ]
  },
  {
   "cell_type": "markdown",
   "id": "96e07ff7-8ee1-4c30-ba03-b871ecbd91a0",
   "metadata": {},
   "source": [
    "$$ \\lambda_{1}v_{1} \\approx 1.372 \\begin{bmatrix}  1.000 \\\\   0.510 \\\\   0.305 \\\\ 0.213 \\\\ 0.156 \\\\ 0.098 \\\\ 0.074 \\end{bmatrix} for \\: k=9 $$ \n"
   ]
  },
  {
   "cell_type": "markdown",
   "id": "1c6d5c34-b2ee-4062-a69e-493578cfc41b",
   "metadata": {},
   "source": [
    "---\n",
    "### Matrix 2 $$ A_{2}= \\begin{bmatrix}0.25 & 0 & 0.5 & 0 & 0.5\\\\   0 & 0 & 1 & 0 & 0\\\\    0.25 & 0.25 & 0 & 0.25 & 0.25\\\\   0 & 0 & 0.5 & 0 & 0.5\\\\  0 & 0 & 0 & 0 & 1\\\\ \\end{bmatrix}$$\n",
    "\n",
    "\n"
   ]
  },
  {
   "cell_type": "code",
   "execution_count": 118,
   "id": "94d716ea-b875-4454-a59f-58d174ff2fed",
   "metadata": {},
   "outputs": [
    {
     "name": "stdout",
     "output_type": "stream",
     "text": [
      "Dominant Eigenvalue: 1.009\n",
      "Eigenvector: [1.000 0.802 0.807 0.752 0.702]\n",
      "K: 7\n"
     ]
    }
   ],
   "source": [
    "A2 = np.array([[0.25, 0, 0.5, 0, 0.5], [0, 0, 1, 0, 0], [0.25, 0.25, 0, 0.25, 0.25], [0, 0, 0.5, 0, 0.5],[0, 0, 0, 0, 1]])\n",
    "eigenvalue, eigenvector, k = power_method(A2)\n",
    "np.set_printoptions(precision=3, floatmode='fixed')\n",
    "print(\"Dominant Eigenvalue:\", eigenvalue)\n",
    "print(\"Eigenvector:\", eigenvector)\n",
    "print(\"K:\", k)"
   ]
  },
  {
   "cell_type": "markdown",
   "id": "bb71c38b-af2c-4f44-a652-2a498ff1e7f0",
   "metadata": {},
   "source": [
    "$$ \\lambda_{1}v_{1} \\approx 1.009 \\begin{bmatrix}  1.000 \\\\   0.802 \\\\   0.807 \\\\ 0.752 \\\\ 0.702 \\end{bmatrix} for \\: k=7 $$ \n"
   ]
  },
  {
   "cell_type": "markdown",
   "id": "6601f372-b125-4a80-8988-2289a1bd2376",
   "metadata": {},
   "source": [
    "---\n",
    "### Matrix 3 $$ A_{3}= \\begin{bmatrix}  1 & 2 & 1 & 3\\\\   2 & 1 & 2 & 3\\\\   0 & 1 & 1 & 1\\\\   1 & 1 & 3 & 1\\\\ \\end{bmatrix}$$"
   ]
  },
  {
   "cell_type": "code",
   "execution_count": 119,
   "id": "065da458-f6d4-41bc-a7ca-1d061a146e45",
   "metadata": {},
   "outputs": [
    {
     "name": "stdout",
     "output_type": "stream",
     "text": [
      "Dominant Eigenvalue: 5.592\n",
      "Eigenvector: [1.000 1.058 0.382 0.698]\n",
      "K: 8\n"
     ]
    }
   ],
   "source": [
    "A3 = np.array([[1, 2, 1, 3], [2, 1, 2, 3], [0, 1, 1, 1], [1, 1, 3, 1]])\n",
    "eigenvalue, eigenvector, k = power_method(A3)\n",
    "np.set_printoptions(precision=3, floatmode='fixed')\n",
    "print(\"Dominant Eigenvalue:\", eigenvalue)\n",
    "print(\"Eigenvector:\", eigenvector)\n",
    "print(\"K:\", k)"
   ]
  },
  {
   "cell_type": "markdown",
   "id": "6f08e15c-551a-4b0d-ad66-9f06f3ca6582",
   "metadata": {},
   "source": [
    "$$ \\lambda_{1}v_{1} \\approx 5.592 \\begin{bmatrix}  1.000 \\\\   1.058 \\\\   0.382 \\\\ 0.698 \\end{bmatrix} for \\: k=8 $$ \n"
   ]
  },
  {
   "cell_type": "markdown",
   "id": "1aa28ca4-3531-49ba-8363-9e77f370db4e",
   "metadata": {},
   "source": [
    "# Problem 2"
   ]
  },
  {
   "cell_type": "code",
   "execution_count": 120,
   "id": "204b59ad-dfcf-46d6-98c2-381e11015141",
   "metadata": {},
   "outputs": [],
   "source": [
    "def dominant_eigen(A):\n",
    "    eigenvalues, eigenvectors = np.linalg.eig(A) #Built in python/numpy eigenvalue and vector command\n",
    "\n",
    "    # Find the index of the largest eigenvalue \n",
    "    largest_eigen_index = np.argmax(np.abs(eigenvalues))\n",
    "\n",
    "    # Return the dominant eigenvalue and its corresponding eigenvector\n",
    "    dominant_eigenvalue = eigenvalues[largest_eigen_index]\n",
    "    dominant_eigenvector = eigenvectors[:, largest_eigen_index]\n",
    "\n",
    "    if dominant_eigenvector[0] != 0: #avoid divide by 0 \n",
    "        dominant_eigenvector /= dominant_eigenvector[0] #scale first element to 1.000 \n",
    "    \n",
    "    return dominant_eigenvalue.real, dominant_eigenvector.real #added .real due to strange complex number glitch (should be floating point only)"
   ]
  },
  {
   "cell_type": "markdown",
   "id": "9b9461c5-ddf6-4788-a9be-f9184a5c643c",
   "metadata": {},
   "source": [
    "---\n",
    "### Matrix 1 $$ A_{1}=\\begin{bmatrix} 0.2 & 1.2 & 1.1 & 0.9 & 0.1 & 0 & 0.2\\\\   0.7 & 0 & 0 & 0 & 0 & 0 & 0 \\\\  0 & 0.82 & 0 & 0 & 0 & 0 & 0\\\\  0 & 0 & 0.97 & 0 & 0 & 0 & 0\\\\  0 & 0 & 0 & 0.97 & 0 & 0 & 0\\\\  0 & 0 & 0 & 0 & 0.9 & 0 & 0\\\\  0 & 0 & 0 & 0 & 0 & 0.87 & 0.2\\\\ \\end{bmatrix}$$"
   ]
  },
  {
   "cell_type": "code",
   "execution_count": 121,
   "id": "21a8697a-07d6-4948-b69b-4097d4e913f3",
   "metadata": {},
   "outputs": [
    {
     "name": "stdout",
     "output_type": "stream",
     "text": [
      "Dominant Eigenvalue: 1.372\n",
      "Eigenvector: [1.000 0.510 0.305 0.216 0.152 0.100 0.074]\n"
     ]
    }
   ],
   "source": [
    "A1 = np.array([[0.2, 1.2, 1.1, 0.9, 0.1, 0, 0.2], [0.7, 0, 0, 0, 0, 0, 0], [0, 0.82, 0, 0, 0, 0, 0], [0, 0, 0.97, 0, 0, 0, 0],[0, 0, 0, 0.97, 0, 0, 0], [0, 0, 0, 0, 0.9, 0, 0], [0, 0, 0, 0, 0, 0.87, 0.2]])\n",
    "eigenvalue, eigenvector = dominant_eigen(A1)\n",
    "np.set_printoptions(precision=3, floatmode='fixed')\n",
    "print(\"Dominant Eigenvalue:\", np.round(eigenvalue, 3))\n",
    "print(\"Eigenvector:\", np.round(eigenvector,3))"
   ]
  },
  {
   "cell_type": "markdown",
   "id": "22c44c6b-bd90-477e-a96a-dbf8f10dcd80",
   "metadata": {},
   "source": [
    "**To compare the actual vs calculated:**\n",
    "\n",
    "$$ 1.372 \\begin{bmatrix}  1.000 \\\\   0.510 \\\\   0.305 \\\\ 0.216 \\\\ 0.152 \\\\ 0.100 \\\\ 0.074 \\end{bmatrix} = \\lambda_{1}v_{1} \\approx 1.372 \\begin{bmatrix}  1.000 \\\\   0.510 \\\\   0.305 \\\\ 0.213 \\\\ 0.156 \\\\ 0.098 \\\\ 0.074 \\end{bmatrix} $$ "
   ]
  },
  {
   "cell_type": "markdown",
   "id": "6e762f52-cf75-4c2c-9f19-378ca7909c22",
   "metadata": {},
   "source": [
    "---\n",
    "### Matrix 2 $$ A_{2}= \\begin{bmatrix}0.25 & 0 & 0.5 & 0 & 0.5\\\\   0 & 0 & 1 & 0 & 0\\\\    0.25 & 0.25 & 0 & 0.25 & 0.25\\\\   0 & 0 & 0.5 & 0 & 0.5\\\\  0 & 0 & 0 & 0 & 1\\\\ \\end{bmatrix}$$\n",
    "\n",
    "\n"
   ]
  },
  {
   "cell_type": "code",
   "execution_count": 122,
   "id": "a13f927b-2220-49ea-923c-adce85028d21",
   "metadata": {},
   "outputs": [
    {
     "name": "stdout",
     "output_type": "stream",
     "text": [
      "Dominant Eigenvalue: 1.0\n",
      "Eigenvector: [1.000 0.812 0.812 0.750 0.688]\n"
     ]
    }
   ],
   "source": [
    "A2 = np.array([[0.25, 0, 0.5, 0, 0.5], [0, 0, 1, 0, 0], [0.25, 0.25, 0, 0.25, 0.25], [0, 0, 0.5, 0, 0.5],[0, 0, 0, 0, 1]])\n",
    "eigenvalue, eigenvector = dominant_eigen(A2)\n",
    "np.set_printoptions(precision=3, floatmode='fixed')\n",
    "print(\"Dominant Eigenvalue:\", np.round(eigenvalue, 3))\n",
    "print(\"Eigenvector:\", np.round(eigenvector,3))"
   ]
  },
  {
   "cell_type": "markdown",
   "id": "8512ea17-5657-473f-add6-c9e3daaa24ad",
   "metadata": {},
   "source": [
    "**To compare the actual vs calculated:**\n",
    "\n",
    "$$1.000 \\begin{bmatrix}  1.000 \\\\   0.812 \\\\   0.812 \\\\ 0.750 \\\\ 0.688 \\end{bmatrix} = \\lambda_{1}v_{1} \\approx 1.009 \\begin{bmatrix}  1.000 \\\\   0.802 \\\\   0.807 \\\\ 0.752 \\\\ 0.702 \\end{bmatrix} $$ \n"
   ]
  },
  {
   "cell_type": "markdown",
   "id": "4d6fd7c7-482d-4ce4-8950-333902c4b853",
   "metadata": {},
   "source": [
    "---\n",
    "### Matrix 3 $$ A_{3}= \\begin{bmatrix}  1 & 2 & 1 & 3\\\\   2 & 1 & 2 & 3\\\\   0 & 1 & 1 & 1\\\\   1 & 1 & 3 & 1\\\\ \\end{bmatrix}$$"
   ]
  },
  {
   "cell_type": "code",
   "execution_count": 123,
   "id": "10941eb5-dff7-4799-8464-6c8c2bb539ad",
   "metadata": {},
   "outputs": [
    {
     "name": "stdout",
     "output_type": "stream",
     "text": [
      "Dominant Eigenvalue: 5.592\n",
      "Eigenvector: [1.000 1.058 0.382 0.698]\n"
     ]
    }
   ],
   "source": [
    "A3 = np.array([[1, 2, 1, 3], [2, 1, 2, 3], [0, 1, 1, 1], [1, 1, 3, 1]])\n",
    "eigenvalue, eigenvector = dominant_eigen(A3)\n",
    "np.set_printoptions(precision=3, floatmode='fixed')\n",
    "print(\"Dominant Eigenvalue:\", np.round(eigenvalue, 3))\n",
    "print(\"Eigenvector:\", np.round(eigenvector,3))"
   ]
  },
  {
   "cell_type": "markdown",
   "id": "91a9c04b-b9e8-40a3-b829-c7a528d96548",
   "metadata": {},
   "source": [
    "**To compare the actual vs calculated:**\n",
    "\n",
    "$$ 5.592 \\begin{bmatrix}  1.000 \\\\   1.058 \\\\   0.382 \\\\ 0.698 \\end{bmatrix} = \\lambda_{1}v_{1} \\approx 5.592 \\begin{bmatrix}  1.000 \\\\   1.058 \\\\   0.382 \\\\ 0.698 \\end{bmatrix} $$ \n"
   ]
  },
  {
   "cell_type": "markdown",
   "id": "6220695b-c5c3-49db-bb84-aa506b97d6a3",
   "metadata": {},
   "source": [
    "# Problem 3"
   ]
  },
  {
   "cell_type": "markdown",
   "id": "dcb512b4-9a32-4275-951a-9a2082cd5200",
   "metadata": {},
   "source": [
    "**a)**"
   ]
  },
  {
   "cell_type": "code",
   "execution_count": 124,
   "id": "c3188522-5701-4160-8483-aaf0e08db7fc",
   "metadata": {},
   "outputs": [
    {
     "name": "stdout",
     "output_type": "stream",
     "text": [
      "Dominant Eigenvalue: 0.0\n",
      "Eigenvector: [nan inf inf]\n",
      "K: 1\n"
     ]
    },
    {
     "name": "stderr",
     "output_type": "stream",
     "text": [
      "C:\\Users\\salba\\AppData\\Local\\Temp\\ipykernel_9556\\3918416573.py:15: RuntimeWarning: divide by zero encountered in divide\n",
      "  x = x / x[0] # Divide each vector by their first component to scale\n",
      "C:\\Users\\salba\\AppData\\Local\\Temp\\ipykernel_9556\\3918416573.py:15: RuntimeWarning: invalid value encountered in divide\n",
      "  x = x / x[0] # Divide each vector by their first component to scale\n"
     ]
    }
   ],
   "source": [
    "A4 = np.array([[-1, 1, 0], [0, 0, 1], [0, 0, 1]])\n",
    "eigenvalue, eigenvector, k = power_method(A4)\n",
    "np.set_printoptions(precision=3, floatmode='fixed')\n",
    "print(\"Dominant Eigenvalue:\", eigenvalue)\n",
    "print(\"Eigenvector:\", eigenvector)\n",
    "print(\"K:\", k)"
   ]
  },
  {
   "cell_type": "markdown",
   "id": "2bd14508-becf-4933-ac99-8a988c0b7402",
   "metadata": {},
   "source": [
    "Trying to run this program results in a *Divide by Zero* error. This is due to the first elements in the vector *x[0]* equating to a zero after being multiplied by the provide A matrix. "
   ]
  },
  {
   "cell_type": "markdown",
   "id": "2bcfa09d-7623-4d6d-8782-ea9d3c447f66",
   "metadata": {},
   "source": [
    "**b)**"
   ]
  },
  {
   "cell_type": "markdown",
   "id": "d21a1045-23d5-4d3d-b8f6-9ec0a8997604",
   "metadata": {},
   "source": [
    "Using the definition of eigenvectors: \n",
    "\n",
    "$$   Av = \\lambda v$$\n",
    "\n",
    "We can algebraic prove:\n",
    "\n",
    "$$ (A + cI) v = Av + cIv$$ \n",
    "\n",
    "$$ (A + cI)v = \\lambda v + cIv $$\n",
    "\n",
    "$$ (A + cI)v = \\lambda v + cv. $$\n",
    "\n",
    " $$  (A + cI)v = (\\lambda + c)v $$ "
   ]
  },
  {
   "cell_type": "markdown",
   "id": "8a54ff4f-aef4-4fdc-a9b2-e647ba74bf0a",
   "metadata": {},
   "source": [
    "**c)**"
   ]
  },
  {
   "cell_type": "code",
   "execution_count": 125,
   "id": "d470cc82-2a26-4a77-b247-50d4807ff654",
   "metadata": {},
   "outputs": [],
   "source": [
    "def power_method_modified(A,c):\n",
    "    rows, cols = A.shape #get row,col of A matrix\n",
    "    I = np.eye(rows) #produce matching square Identity matrix\n",
    "    A_augmented = A + (c*I) #augment matrix per rule proven in 3b\n",
    "    eigenvalue, eigenvector, k = power_method(A_augmented) #call power method function from problem 1 with augment matrix\n",
    "    return (eigenvalue-c,eigenvector), (-eigenvalue+c,-eigenvector+c) #return eigenvalue/vector pair"
   ]
  },
  {
   "cell_type": "code",
   "execution_count": 126,
   "id": "c549c689-5016-4200-8f0d-71c4d4623ae2",
   "metadata": {},
   "outputs": [
    {
     "name": "stdout",
     "output_type": "stream",
     "text": [
      "First Eigenvalue: 1.0\n",
      "First Eigenvector: [1.000 2.000 2.000]\n",
      "Second Eigenvalue: -1.0\n",
      "Second Eigenvector: [1.000 0.000 0.000]\n"
     ]
    }
   ],
   "source": [
    "A4 = np.array([[-1, 1, 0], [0, 0, 1], [0, 0, 1]]) #Define A4\n",
    "eigen1, eigen2 = power_method_modified(A4,2)\n",
    "\n",
    "np.set_printoptions(precision=3, floatmode='fixed')\n",
    "print(\"First Eigenvalue:\", eigen1[0])\n",
    "print(\"First Eigenvector:\", eigen1[1])\n",
    "print(\"Second Eigenvalue:\", eigen2[0])\n",
    "print(\"Second Eigenvector:\", eigen2[1])"
   ]
  },
  {
   "cell_type": "markdown",
   "id": "5844f2c3-0319-4f79-8511-c1551996cddc",
   "metadata": {},
   "source": [
    "$$ \\lambda_{1}v_{1} = 1.000 \\begin{bmatrix}  2.000 \\\\   2.000 \\\\   2.000 \\end{bmatrix} $$ \n",
    "\n",
    "$$ \\lambda_{2}v_{2} = -1.000 \\begin{bmatrix}  1.000 \\\\   0.000 \\\\   0.000 \\end{bmatrix} $$ \n"
   ]
  },
  {
   "cell_type": "code",
   "execution_count": 127,
   "id": "7b6b7ad8-5307-4f5f-8c66-2c8deda3d588",
   "metadata": {},
   "outputs": [
    {
     "name": "stdout",
     "output_type": "stream",
     "text": [
      "First Eigenvalue: 1.0\n",
      "First Eigenvector: [1.000 2.000 2.000]\n",
      "Second Eigenvalue: -1.0\n",
      "Second Eigenvector: [1.000 0.000 0.000]\n"
     ]
    }
   ],
   "source": [
    "eigenvalues, eigenvectors = np.linalg.eig(A4) #Built in python/numpy eigenvalue and vector command\n",
    "\n",
    "sorted_indices = np.argsort(np.abs(eigenvalues))[::-1] #sort all eigenvalues\n",
    "largest_eigen_index1, largest_eigen_index2 = sorted_indices[:2] #select two largest eigenvalues (this will be the pair)\n",
    "\n",
    "# Extract value based on index\n",
    "eigenval1 = eigenvalues[largest_eigen_index1].real\n",
    "eigenvect1 = eigenvectors[:, largest_eigen_index1].real\n",
    "eigenval2 = eigenvalues[largest_eigen_index2].real\n",
    "eigenvect2 = eigenvectors[:, largest_eigen_index2].real\n",
    "\n",
    "\n",
    "if eigenvect1[0] != 0: #avoid divide by 0\n",
    "    eigenvect1 /= eigenvect1[0] #scale element 1 to 1.000\n",
    "if eigenvect2[0] != 0:\n",
    "    eigenvect2 /= eigenvect2[0]\n",
    "\n",
    "\n",
    "np.set_printoptions(precision=3, floatmode='fixed')\n",
    "print(\"First Eigenvalue:\", np.round(eigenval1, 3))\n",
    "print(\"First Eigenvector:\", np.round(eigenvect1, 3))\n",
    "print(\"Second Eigenvalue:\", np.round(eigenval2, 3))\n",
    "print(\"Second Eigenvector:\", np.round(eigenvect2, 3))\n"
   ]
  },
  {
   "cell_type": "markdown",
   "id": "4dbf2d7d-55f6-4aa3-acf6-b04111584686",
   "metadata": {},
   "source": [
    "$$ \\lambda_{1}v_{1} = 1.000 \\begin{bmatrix}  2.000 \\\\   2.000 \\\\   2.000 \\end{bmatrix} $$ \n",
    "\n",
    "$$ \\lambda_{2}v_{2} = -1.000 \\begin{bmatrix}  1.000 \\\\   0.000 \\\\   0.000 \\end{bmatrix} $$ \n",
    "\n",
    "**Results are identical using both methods**"
   ]
  },
  {
   "cell_type": "markdown",
   "id": "3b220c81-711e-4674-b1c2-59f4555f6fbe",
   "metadata": {},
   "source": [
    "# Problem 4"
   ]
  },
  {
   "cell_type": "code",
   "execution_count": 128,
   "id": "fc4345a8-03a4-46e7-b38a-2378a6a80cf1",
   "metadata": {},
   "outputs": [
    {
     "name": "stdout",
     "output_type": "stream",
     "text": [
      "Characteristic Polynomial of A3:\n",
      "λ**4 - 4*λ**3 - 9*λ**2 + 3\n"
     ]
    },
    {
     "data": {
      "image/png": "[encoded data removed]",
      "text/plain": [
       "<Figure size 640x480 with 1 Axes>"
      ]
     },
     "metadata": {},
     "output_type": "display_data"
    }
   ],
   "source": [
    "import sympy as sp #used to display equation on output\n",
    "import matplotlib.pyplot as plt #used for plotting\n",
    "\n",
    "# Define the matrix A3, again\n",
    "A3 = np.array([[1, 2, 1, 3], [2, 1, 2, 3], [0, 1, 1, 1], [1, 1, 3, 1]])\n",
    "\n",
    "#characteristic polynomial\n",
    "λ = sp.symbols('λ')\n",
    "A3_sym = sp.Matrix(A3)\n",
    "char_poly = A3_sym.charpoly(λ)  # get the characteristic polynomial of A3\n",
    "\n",
    "print(\"Characteristic Polynomial of A3:\")\n",
    "print(char_poly.as_expr())\n",
    "\n",
    "\n",
    "eigenvalues = np.linalg.eigvals(A3) #find eigenvalue with built in function again\n",
    "coefficients = np.poly(eigenvalues)  #create numpy version of characteristic polynomial (previous was for graphic display for user) \n",
    "\n",
    "def char_poly_eval(x):\n",
    "    return np.polyval(coefficients, x)\n",
    "\n",
    "#plot\n",
    "x_vals = np.linspace(-2, 6, 500)\n",
    "y_vals = [char_poly_eval(x) for x in x_vals]\n",
    "\n",
    "plt.plot(x_vals, y_vals, label='Characteristic Polynomial of A3')\n",
    "plt.axhline(0, color='gray', lw=0.5)\n",
    "plt.xlabel('λ')\n",
    "plt.ylabel('y')\n",
    "plt.title('Plot of the Characteristic Polynomial of A3')\n",
    "plt.legend()\n",
    "plt.grid(True)\n",
    "\n",
    "#find the roots (crossings where y=0)\n",
    "dense_x_vals = np.linspace(-2, 6, 1000)\n",
    "dense_y_vals = [char_poly_eval(x) for x in dense_x_vals]\n",
    "\n",
    "sign_changes = np.where(np.diff(np.sign(dense_y_vals)))[0] #find sign changes (ie change in direction of function)\n",
    "crossings = []\n",
    "\n",
    "#find midpoint between sign changes\n",
    "for index in sign_changes:\n",
    "    x_cross = (dense_x_vals[index] + dense_x_vals[index + 1]) / 2\n",
    "    crossings.append(x_cross)\n",
    "\n",
    "for roots in crossings:\n",
    "    if roots == max(crossings):\n",
    "        plt.plot(roots, 0, 'go', markersize=8)\n",
    "        plt.text(roots, -20, f'{roots:.3f}', fontsize=12, ha='center', color='green', fontweight='bold')\n",
    "    else:\n",
    "        plt.plot(roots, 0, 'ro')\n",
    "        plt.text(roots, -20, f'{roots:.3f}', fontsize=10, ha='center', color='red')\n",
    "\n",
    "\n",
    "plt.show()\n"
   ]
  },
  {
   "cell_type": "markdown",
   "id": "979a0933-aaa3-4548-b024-36f3f7c373a2",
   "metadata": {},
   "source": [
    "$$Characteristic - Polynomial: \\lambda^4 - 4 \\lambda^3 - 9 \\lambda^2 + 3 $$\n",
    "\n",
    "$$max(root) = 5.596$$"
   ]
  }
 ],
 "metadata": {
  "kernelspec": {
   "display_name": "Python 3 (ipykernel)",
   "language": "python",
   "name": "python3"
  },
  "language_info": {
   "codemirror_mode": {
    "name": "ipython",
    "version": 3
   },
   "file_extension": ".py",
   "mimetype": "text/x-python",
   "name": "python",
   "nbconvert_exporter": "python",
   "pygments_lexer": "ipython3",
   "version": "3.13.0"
  }
 },
 "nbformat": 4,
 "nbformat_minor": 5
}
