{
 "cells": [
  {
   "cell_type": "markdown",
   "id": "c328acdd-229b-4d04-811c-3e4675d7f49d",
   "metadata": {},
   "source": [
    "**Computer Project 1** </br>\n",
    "\n",
    "**ECE5101** \n",
    "\n",
    "Spencer Albano \n",
    "\n",
    "\n",
    "\n",
    "`CP1_sda18001.ipynb`\n",
    "*can be viewed and interacted with via* \n",
    "\n",
    "<https://nbviewer.org/github/salbano108/ECE5101_CP1/tree/master/> \n",
    "\n",
    "*or by installing Jupyter Lab*\n",
    "</br>\n",
    "</br>"
   ]
  },
  {
   "cell_type": "markdown",
   "id": "267e6f5b-b9d3-4109-833b-286245d03add",
   "metadata": {},
   "source": [
    "# Problem 1"
   ]
  },
  {
   "cell_type": "markdown",
   "id": "93d005ae-98d8-4973-864d-6169294b15de",
   "metadata": {},
   "source": [
    "For each matrix below find:\n",
    "\n",
    "(i) The dominant eigenvalue <br />\n",
    "(ii) A corresponding eigenvector <br />\n",
    "(iii) The power 𝑘 used to obtain them. <br />\n",
    "\n",
    "\n",
    "$$ A_{1}=\n",
    "\\begin{bmatrix}\n",
    "  0.2 & 1.2 & 1.1 & 0.9 & 0.1 & 0 & 0.2\\\\ \n",
    "  0.7 & 0 & 0 & 0 & 0 & 0 & 0 \\\\\n",
    "  0 & 0.82 & 0 & 0 & 0 & 0 & 0\\\\\n",
    "  0 & 0 & 0.97 & 0 & 0 & 0 & 0\\\\\n",
    "  0 & 0 & 0 & 0.97 & 0 & 0 & 0\\\\\n",
    "  0 & 0 & 0 & 0 & 0.9 & 0 & 0\\\\\n",
    "  0 & 0 & 0 & 0 & 0 & 0.87 & 0.2\\\\\n",
    "\\end{bmatrix}$$\n",
    "\n",
    "$$ A_{2}=\n",
    "\\begin{bmatrix}\n",
    "  0.25 & 0 & 0.5 & 0 & 0.5\\\\ \n",
    "  0 & 0 & 1 & 0 & 0\\\\  \n",
    "  0.25 & 0.25 & 0 & 0.25 & 0.25\\\\ \n",
    "  0 & 0 & 0.5 & 0 & 0.5\\\\\n",
    "  0 & 0 & 0 & 0 & 1\\\\ \n",
    "\\end{bmatrix}$$\n",
    "\n",
    "\n",
    "$$ A_{3}=\n",
    "\\begin{bmatrix}\n",
    "  1 & 2 & 1 & 3\\\\ \n",
    "  2 & 1 & 2 & 3\\\\ \n",
    "  0 & 1 & 1 & 1\\\\ \n",
    "  1 & 1 & 3 & 1\\\\ \n",
    "\\end{bmatrix}$$"
   ]
  },
  {
   "cell_type": "markdown",
   "id": "83b1ecda-0187-4e20-991a-49e7fb377c70",
   "metadata": {},
   "source": [
    "---\n",
    "## Solution:"
   ]
  },
  {
   "cell_type": "code",
   "execution_count": 36,
   "id": "d873aee7-89dc-4a01-9bbb-b9cbf686e8c3",
   "metadata": {},
   "outputs": [],
   "source": [
    "import numpy as np\n",
    "\n",
    "def power_method(A, max_iterations=15, precision=1e-3):\n",
    "    n, m = A.shape #Find row,col of A\n",
    "    x = np.ones(n) # Set the initial vector to a vector of ones\n",
    "    eigenvalue_temp = 0\n",
    "    \n",
    "    for k in range(1, max_iterations + 1): #test from 1 to max_int to find Eigenvalue that fits the selected value of precision\n",
    "        \n",
    "        consant0 = x[0] # Store first component of previous vector\n",
    "        x = np.dot(A, x) # Multiply by matrix A to get the next vector\n",
    "        consant1 = x[0] # Store first component of current vector\n",
    "\n",
    "\n",
    "        x = x / x[0] # Divide each vector by their first component to scale\n",
    "\n",
    "        eigenvalue = consant1/consant0 # Approximate the eigenvalue from (k+1)/(k) vector results\n",
    "\n",
    "        # Check if eigenvalue is still changing for selected level of precision\n",
    "        if abs(eigenvalue - eigenvalue_temp) < precision:\n",
    "            eigenvalue = np.round(eigenvalue, 3)\n",
    "            eigenvector = np.round(x, 3)\n",
    "            return eigenvalue, eigenvector, k\n",
    "\n",
    "        eigenvalue_temp = eigenvalue # Update the temporary eigenvalue for the next iteration"
   ]
  },
  {
   "cell_type": "markdown",
   "id": "41bec8d7-4172-4adf-903c-c09d3328ba62",
   "metadata": {},
   "source": [
    "### Example Matrix $$A = \\begin{bmatrix}  1 & 2 & 0 \\\\   2 & 1 & 2 \\\\   1 & 2 & 3 \\\\  \\end{bmatrix}$$"
   ]
  },
  {
   "cell_type": "code",
   "execution_count": 35,
   "id": "49a231eb-bb7d-4cc9-a201-81c14014c4a8",
   "metadata": {},
   "outputs": [
    {
     "name": "stdout",
     "output_type": "stream",
     "text": [
      "Dominant Eigenvalue: 4.82\n",
      "Eigenvector: [1.000 1.910 2.648]\n",
      "K: 9\n"
     ]
    }
   ],
   "source": [
    "A = np.array([[1, 2, 0], [2, 1, 2], [1, 2, 3]])\n",
    "eigenvalue, eigenvector, k = power_method(A)\n",
    "np.set_printoptions(precision=3, floatmode='fixed')\n",
    "print(\"Dominant Eigenvalue:\", eigenvalue)\n",
    "print(\"Eigenvector:\", eigenvector)\n",
    "print(\"K:\", k)"
   ]
  },
  {
   "cell_type": "markdown",
   "id": "9ab0fedd-32e5-43f3-ae1f-6bad484470ea",
   "metadata": {},
   "source": [
    "$$ \\lambda_{1}v_{1} \\approx 4.82 \\begin{bmatrix}  1.000 \\\\   1.910 \\\\   2.648 \\\\  \\end{bmatrix} for \\: k=9 $$ \n"
   ]
  },
  {
   "cell_type": "markdown",
   "id": "7c426da0-1efe-462e-9e06-146fbbb4db4a",
   "metadata": {},
   "source": [
    "---\n",
    "### Matrix 1 $$ A_{1}=\\begin{bmatrix} 0.2 & 1.2 & 1.1 & 0.9 & 0.1 & 0 & 0.2\\\\   0.7 & 0 & 0 & 0 & 0 & 0 & 0 \\\\  0 & 0.82 & 0 & 0 & 0 & 0 & 0\\\\  0 & 0 & 0.97 & 0 & 0 & 0 & 0\\\\  0 & 0 & 0 & 0.97 & 0 & 0 & 0\\\\  0 & 0 & 0 & 0 & 0.9 & 0 & 0\\\\  0 & 0 & 0 & 0 & 0 & 0.87 & 0.2\\\\ \\end{bmatrix}$$"
   ]
  },
  {
   "cell_type": "code",
   "execution_count": 38,
   "id": "ec3d61ab-02d9-4292-99e4-597c61232b6a",
   "metadata": {},
   "outputs": [
    {
     "name": "stdout",
     "output_type": "stream",
     "text": [
      "Dominant Eigenvalue: 1.372\n",
      "Eigenvector: [1.000 0.510 0.305 0.213 0.156 0.098 0.074]\n",
      "K: 9\n"
     ]
    }
   ],
   "source": [
    "A1 = np.array([[0.2, 1.2, 1.1, 0.9, 0.1, 0, 0.2], [0.7, 0, 0, 0, 0, 0, 0], [0, 0.82, 0, 0, 0, 0, 0], [0, 0, 0.97, 0, 0, 0, 0],[0, 0, 0, 0.97, 0, 0, 0], [0, 0, 0, 0, 0.9, 0, 0], [0, 0, 0, 0, 0, 0.87, 0.2]])\n",
    "eigenvalue, eigenvector, k = power_method(A1)\n",
    "np.set_printoptions(precision=3, floatmode='fixed')\n",
    "print(\"Dominant Eigenvalue:\", eigenvalue)\n",
    "print(\"Eigenvector:\", eigenvector)\n",
    "print(\"K:\", k)"
   ]
  },
  {
   "cell_type": "markdown",
   "id": "96e07ff7-8ee1-4c30-ba03-b871ecbd91a0",
   "metadata": {},
   "source": [
    "$$ \\lambda_{1}v_{1} \\approx 1.372 \\begin{bmatrix}  1.000 \\\\   0.510 \\\\   0.305 \\\\ 0.213 \\\\ 0.156 \\\\ 0.098 \\\\ 0.074 \\end{bmatrix} for \\: k=9 $$ \n"
   ]
  },
  {
   "cell_type": "markdown",
   "id": "1c6d5c34-b2ee-4062-a69e-493578cfc41b",
   "metadata": {},
   "source": [
    "---\n",
    "### Matrix 2 $$ A_{2}= \\begin{bmatrix}0.25 & 0 & 0.5 & 0 & 0.5\\\\   0 & 0 & 1 & 0 & 0\\\\    0.25 & 0.25 & 0 & 0.25 & 0.25\\\\   0 & 0 & 0.5 & 0 & 0.5\\\\  0 & 0 & 0 & 0 & 1\\\\ \\end{bmatrix}$$\n",
    "\n",
    "\n"
   ]
  },
  {
   "cell_type": "code",
   "execution_count": 39,
   "id": "94d716ea-b875-4454-a59f-58d174ff2fed",
   "metadata": {},
   "outputs": [
    {
     "name": "stdout",
     "output_type": "stream",
     "text": [
      "Dominant Eigenvalue: 1.009\n",
      "Eigenvector: [1.000 0.802 0.807 0.752 0.702]\n",
      "K: 7\n"
     ]
    }
   ],
   "source": [
    "A2 = np.array([[0.25, 0, 0.5, 0, 0.5], [0, 0, 1, 0, 0], [0.25, 0.25, 0, 0.25, 0.25], [0, 0, 0.5, 0, 0.5],[0, 0, 0, 0, 1]])\n",
    "eigenvalue, eigenvector, k = power_method(A2)\n",
    "np.set_printoptions(precision=3, floatmode='fixed')\n",
    "print(\"Dominant Eigenvalue:\", eigenvalue)\n",
    "print(\"Eigenvector:\", eigenvector)\n",
    "print(\"K:\", k)"
   ]
  },
  {
   "cell_type": "markdown",
   "id": "bb71c38b-af2c-4f44-a652-2a498ff1e7f0",
   "metadata": {},
   "source": [
    "$$ \\lambda_{1}v_{1} \\approx 1.009 \\begin{bmatrix}  1.000 \\\\   0.802 \\\\   0.807 \\\\ 0.752 \\\\ 0.702 \\end{bmatrix} for \\: k=7 $$ \n"
   ]
  },
  {
   "cell_type": "code",
   "execution_count": null,
   "id": "a6b04ad6-528c-405c-bf97-9c9abfdb8705",
   "metadata": {},
   "outputs": [],
   "source": []
  },
  {
   "cell_type": "markdown",
   "id": "6601f372-b125-4a80-8988-2289a1bd2376",
   "metadata": {},
   "source": [
    "---\n",
    "### Matrix 3 $$ A_{3}= \\begin{bmatrix}  1 & 2 & 1 & 3\\\\   2 & 1 & 2 & 3\\\\   0 & 1 & 1 & 1\\\\   1 & 1 & 3 & 1\\\\ \\end{bmatrix}$$"
   ]
  },
  {
   "cell_type": "code",
   "execution_count": 39,
   "id": "065da458-f6d4-41bc-a7ca-1d061a146e45",
   "metadata": {},
   "outputs": [
    {
     "name": "stdout",
     "output_type": "stream",
     "text": [
      "Dominant Eigenvalue: 1.009\n",
      "Eigenvector: [1.000 0.802 0.807 0.752 0.702]\n",
      "K: 7\n"
     ]
    }
   ],
   "source": [
    "A2 = np.array([[0.25, 0, 0.5, 0, 0.5], [0, 0, 1, 0, 0], [0.25, 0.25, 0, 0.25, 0.25], [0, 0, 0.5, 0, 0.5],[0, 0, 0, 0, 1]])\n",
    "eigenvalue, eigenvector, k = power_method(A2)\n",
    "np.set_printoptions(precision=3, floatmode='fixed')\n",
    "print(\"Dominant Eigenvalue:\", eigenvalue)\n",
    "print(\"Eigenvector:\", eigenvector)\n",
    "print(\"K:\", k)"
   ]
  }
 ],
 "metadata": {
  "kernelspec": {
   "display_name": "Python 3 (ipykernel)",
   "language": "python",
   "name": "python3"
  },
  "language_info": {
   "codemirror_mode": {
    "name": "ipython",
    "version": 3
   },
   "file_extension": ".py",
   "mimetype": "text/x-python",
   "name": "python",
   "nbconvert_exporter": "python",
   "pygments_lexer": "ipython3",
   "version": "3.13.0"
  }
 },
 "nbformat": 4,
 "nbformat_minor": 5
}
